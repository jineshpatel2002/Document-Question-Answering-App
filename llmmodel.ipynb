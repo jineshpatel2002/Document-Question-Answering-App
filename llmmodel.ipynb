{
 "cells": [
  {
   "cell_type": "code",
   "execution_count": 2,
   "metadata": {},
   "outputs": [],
   "source": [
    "## Importing the required libraries\n",
    "\n",
    "from langchain_community.document_loaders import PyPDFLoader\n",
    "from docx import Document\n",
    "from langchain_chroma import Chroma\n",
    "from langchain_community.embeddings.sentence_transformer import (\n",
    "    SentenceTransformerEmbeddings,\n",
    ")\n",
    "import numpy as np\n",
    "\n"
   ]
  },
  {
   "cell_type": "code",
   "execution_count": 28,
   "metadata": {},
   "outputs": [
    {
     "data": {
      "text/plain": [
       "[Document(page_content='Welcome to Smallpdf\\nDigital Documents—All In One Place\\nAccess Files Anytime, Anywhere Enhance Documents in One Click \\nCollaborate With Others With the new Smallpdf experience, you can \\nfreely upload, organize, and share digital \\ndocuments. When you enable the ‘Storage’ \\noption, we’ll also store all processed files here. \\nYou can access files stored on Smallpdf from \\nyour computer, phone, or tablet. We’ll also \\nsync files from the Smallpdf Mobile App to our \\nonline portalWhen you right-click on a file, we’ll present \\nyou with an array of options to convert, \\ncompress, or modify it. \\nForget mundane administrative tasks. With \\nSmallpdf, you can request e-signatures, send \\nlarge files, or even enable the Smallpdf G Suite \\nApp for your entire organization. Ready to take document management to the next level?', metadata={'source': 'C:/Users/JineshPatel/Downloads/Get_Started_With_Smallpdf.pdf', 'page': 0})]"
      ]
     },
     "execution_count": 28,
     "metadata": {},
     "output_type": "execute_result"
    }
   ],
   "source": [
    "from langchain_text_splitters import CharacterTextSplitter\n",
    "\n",
    "def read_pdf(file_path):\n",
    "    loader = PyPDFLoader(file_path)\n",
    "    documents = loader.load_and_split()\n",
    "    # text = \" \".join([doc.page_content for doc in documents])\n",
    "    # print(text)\n",
    "    text_splitter = CharacterTextSplitter(chunk_size=1000, chunk_overlap=200)\n",
    "    docs = text_splitter.split_documents(documents)\n",
    "    # print(docs)\n",
    "    return docs\n",
    "\n",
    "read_pdf(\"C:/Users/JineshPatel/Downloads/Get_Started_With_Smallpdf.pdf\")"
   ]
  },
  {
   "cell_type": "code",
   "execution_count": 4,
   "metadata": {},
   "outputs": [
    {
     "data": {
      "text/plain": [
       "[Document(page_content=\"| **Compensation**          | **Monthly** | **Yearly**   |\\n|---------------------------|-------------|--------------|\\n| **Basic Salary**          | ₹24,000     | ₹288,000     |\\n| **House Rent Allowance**  | ₹9,600      | ₹115,200     |\\n| **Standard Allowance**    | ₹6,000      | ₹72,000      |\\n| **Special Allowance**     | ₹16,580     | ₹198,960     |\\n| **Total Gross Pay (A)**   | ₹56,180     | ₹674,160     |\\n| **Employee's contribution in PF** | ₹2,520 | ₹30,240    |\\n| **Professional Tax**      | ₹200        | ₹2,400       |\\n| **Total Deductions (B)**  | ₹2,700      | ₹32,640      |\\n| **Employer's contribution in PF** | ₹2,520 | ₹30,240    |\\n| **EPF Admin Charges**     | ₹150        | ₹1,800       |\\n| **Gratuity**              | ₹1,150      | ₹13,800      |\\n| **Total Employer's Contributions (C)** | ₹3,820 | ₹45,840 |\\n| **Total CTC (A+C)**       | ₹60,000     | ₹720,000     |\\n| **Net Take Home**         | ₹53,480     | ₹641,760     |\\n\\n\\n\\n\\n\\n\\n\\n\\n\\n\\n\\n\\n\\n\\n\\n\\n\\n\\n\\n\", metadata={'source': 'C:/Users/JineshPatel/Downloads/Untitled document.docx'})]"
      ]
     },
     "execution_count": 4,
     "metadata": {},
     "output_type": "execute_result"
    }
   ],
   "source": [
    "from langchain_core.documents import Document as customDocument\n",
    "def read_doc(file_path):\n",
    "    # Load the document\n",
    "    doc = Document(file_path)\n",
    "    \n",
    "    # Extract text from paragraphs\n",
    "    text = \"\"\n",
    "    for paragraph in doc.paragraphs:\n",
    "        text += paragraph.text + \"\\n\"  # Add newline to separate paragraphs\n",
    "    \n",
    "    # Create a single Document object with the extracted text as page_content\n",
    "    document = customDocument(page_content=text, metadata={\"source\": file_path})\n",
    "    \n",
    "    return [document]  # Return as a list to match the format of read_pdf\n",
    "read_doc(\"C:/Users/JineshPatel/Downloads/Untitled document.docx\")"
   ]
  },
  {
   "cell_type": "code",
   "execution_count": 5,
   "metadata": {},
   "outputs": [],
   "source": [
    "#%pip install sentence-transformers"
   ]
  },
  {
   "cell_type": "code",
   "execution_count": 45,
   "metadata": {},
   "outputs": [
    {
     "name": "stderr",
     "output_type": "stream",
     "text": [
      "c:\\Users\\JineshPatel\\Desktop\\open-vinoTrial\\.venv\\Lib\\site-packages\\huggingface_hub\\file_download.py:1132: FutureWarning: `resume_download` is deprecated and will be removed in version 1.0.0. Downloads always resume when possible. If you want to force a new download, use `force_download=True`.\n",
      "  warnings.warn(\n"
     ]
    }
   ],
   "source": [
    "def generate_embeddings_and_store_chromadb(docs):\n",
    "\n",
    "    # create the open-source embedding function\n",
    "    embedding_function = SentenceTransformerEmbeddings(model_name=\"all-MiniLM-L6-v2\")\n",
    "\n",
    "    # load it into Chroma\n",
    "    db = Chroma.from_documents(docs, embedding_function)\n",
    "    return db\n",
    "vector_store = generate_embeddings_and_store_chromadb(read_pdf(\"C:/Users/JineshPatel/Downloads/Budget_2024.pdf\"))"
   ]
  },
  {
   "cell_type": "code",
   "execution_count": 46,
   "metadata": {},
   "outputs": [],
   "source": [
    "retriever = vector_store.as_retriever(\n",
    "    search_type=\"similarity\",\n",
    "    search_kwargs={\"k\": 3},\n",
    ")\n",
    "\n",
    "from transformers import pipeline\n",
    "\n",
    "# Assuming retriever is already defined\n",
    "llm = pipeline(\"question-answering\", model=\"deepset/roberta-base-squad2\")\n"
   ]
  },
  {
   "cell_type": "code",
   "execution_count": 47,
   "metadata": {},
   "outputs": [],
   "source": [
    "from langchain_core.prompts import ChatPromptTemplate\n",
    "\n",
    "message = \"\"\"\n",
    "Please provide a detailed answer to the following question using the provided context.\n",
    "\n",
    "{question}\n",
    "\n",
    "Context:\n",
    "{context}\n",
    "\"\"\"\n",
    "\n",
    "prompt = ChatPromptTemplate.from_messages([(\"human\", message)])\n",
    "\n",
    "\n",
    "class CustomChain:\n",
    "    def __init__(self, retriever, prompt, llm):\n",
    "        self.retriever = retriever\n",
    "        self.prompt = prompt\n",
    "        self.llm = llm\n",
    "\n",
    "    def invoke(self, question):\n",
    "        # Retrieve context using the retriever\n",
    "        context_docs = self.retriever.invoke(question)\n",
    "        context = context_docs[0].page_content if context_docs else \"\"\n",
    "\n",
    "        # Format the prompt with the retrieved context\n",
    "        formatted_message = self.prompt.format_messages(\n",
    "            question=question,\n",
    "            context=context\n",
    "        )[0]\n",
    "        formatted_prompt = formatted_message.content # Just for debugging\n",
    "        # print(formatted_prompt)\n",
    "\n",
    "        # Use the QA pipeline to answer the question\n",
    "        response = self.llm(question=question, context=context)\n",
    "        return response\n",
    "# Create an instance of the chain\n",
    "rag_chain = CustomChain(retriever=retriever, prompt=prompt, llm=llm)"
   ]
  },
  {
   "cell_type": "code",
   "execution_count": 48,
   "metadata": {},
   "outputs": [
    {
     "name": "stdout",
     "output_type": "stream",
     "text": [
      "Answer is :  The Medium-Term Fiscal Policy cum Fiscal Policy Strategy Statement\n"
     ]
    }
   ],
   "source": [
    "question = \"what is bill?  \"\n",
    "response = rag_chain.invoke(question)\n",
    "\n",
    "print(\"Answer is : \",response['answer'])\n"
   ]
  },
  {
   "cell_type": "code",
   "execution_count": 1,
   "metadata": {},
   "outputs": [
    {
     "name": "stdout",
     "output_type": "stream",
     "text": [
      "Collecting flask\n",
      "  Downloading flask-3.0.3-py3-none-any.whl.metadata (3.2 kB)\n",
      "Collecting Werkzeug>=3.0.0 (from flask)\n",
      "  Downloading werkzeug-3.0.3-py3-none-any.whl.metadata (3.7 kB)\n",
      "Requirement already satisfied: Jinja2>=3.1.2 in c:\\users\\jineshpatel\\desktop\\open-vinotrial\\.venv\\lib\\site-packages (from flask) (3.1.4)\n",
      "Collecting itsdangerous>=2.1.2 (from flask)\n",
      "  Downloading itsdangerous-2.2.0-py3-none-any.whl.metadata (1.9 kB)\n",
      "Requirement already satisfied: click>=8.1.3 in c:\\users\\jineshpatel\\desktop\\open-vinotrial\\.venv\\lib\\site-packages (from flask) (8.1.7)\n",
      "Requirement already satisfied: blinker>=1.6.2 in c:\\users\\jineshpatel\\desktop\\open-vinotrial\\.venv\\lib\\site-packages (from flask) (1.8.2)\n",
      "Requirement already satisfied: colorama in c:\\users\\jineshpatel\\desktop\\open-vinotrial\\.venv\\lib\\site-packages (from click>=8.1.3->flask) (0.4.6)\n",
      "Requirement already satisfied: MarkupSafe>=2.0 in c:\\users\\jineshpatel\\desktop\\open-vinotrial\\.venv\\lib\\site-packages (from Jinja2>=3.1.2->flask) (2.1.5)\n",
      "Downloading flask-3.0.3-py3-none-any.whl (101 kB)\n",
      "   ---------------------------------------- 0.0/101.7 kB ? eta -:--:--\n",
      "   ---- ----------------------------------- 10.2/101.7 kB ? eta -:--:--\n",
      "   --------------- ----------------------- 41.0/101.7 kB 487.6 kB/s eta 0:00:01\n",
      "   ----------------------------------- --- 92.2/101.7 kB 744.7 kB/s eta 0:00:01\n",
      "   -------------------------------------- 101.7/101.7 kB 648.9 kB/s eta 0:00:00\n",
      "Downloading itsdangerous-2.2.0-py3-none-any.whl (16 kB)\n",
      "Downloading werkzeug-3.0.3-py3-none-any.whl (227 kB)\n",
      "   ---------------------------------------- 0.0/227.3 kB ? eta -:--:--\n",
      "   ---------------------------------- ----- 194.6/227.3 kB 5.9 MB/s eta 0:00:01\n",
      "   ---------------------------------------- 227.3/227.3 kB 3.5 MB/s eta 0:00:00\n",
      "Installing collected packages: Werkzeug, itsdangerous, flask\n",
      "Successfully installed Werkzeug-3.0.3 flask-3.0.3 itsdangerous-2.2.0\n",
      "Note: you may need to restart the kernel to use updated packages.\n"
     ]
    }
   ],
   "source": [
    "\n",
    "%pip install flask"
   ]
  },
  {
   "cell_type": "code",
   "execution_count": null,
   "metadata": {},
   "outputs": [],
   "source": []
  }
 ],
 "metadata": {
  "kernelspec": {
   "display_name": ".venv",
   "language": "python",
   "name": "python3"
  },
  "language_info": {
   "codemirror_mode": {
    "name": "ipython",
    "version": 3
   },
   "file_extension": ".py",
   "mimetype": "text/x-python",
   "name": "python",
   "nbconvert_exporter": "python",
   "pygments_lexer": "ipython3",
   "version": "3.12.4"
  }
 },
 "nbformat": 4,
 "nbformat_minor": 2
}
